{
 "cells": [
  {
   "cell_type": "markdown",
   "metadata": {},
   "source": [
    "## 1.   Load pretrained model and tokenizer"
   ]
  },
  {
   "cell_type": "code",
   "execution_count": 1,
   "metadata": {},
   "outputs": [
    {
     "data": {
      "application/vnd.jupyter.widget-view+json": {
       "model_id": "9f32965d27304b8ca5c132e85fba7a51",
       "version_major": 2,
       "version_minor": 0
      },
      "text/plain": [
       "Loading checkpoint shards:   0%|          | 0/2 [00:00<?, ?it/s]"
      ]
     },
     "metadata": {},
     "output_type": "display_data"
    }
   ],
   "source": [
    "import torch\n",
    "from transformers import AutoTokenizer, AutoModelForCausalLM\n",
    "from peft import PromptEncoderConfig, get_peft_model, TaskType\n",
    "\n",
    "tokenizer = AutoTokenizer.from_pretrained(\"internlm/internlm2-chat-7b\", trust_remote_code=True)\n",
    "model = AutoModelForCausalLM.from_pretrained(\"internlm/internlm2-chat-7b\", device_map=\"cuda\",trust_remote_code=True, torch_dtype=torch.float16)\n",
    "# model = model.eval()\n",
    "config = PromptEncoderConfig(\n",
    "    peft_type=\"P_TUNING\",\n",
    "    task_type=TaskType.CAUSAL_LM,\n",
    "    num_virtual_tokens=10,\n",
    "    token_dim=2048,\n",
    "    # num_transformer_submodules=1,\n",
    "    # num_attention_heads=12,\n",
    "    # num_layers=12,\n",
    "    encoder_reparameterization_type=\"MLP\",\n",
    "    encoder_hidden_size=2048,\n",
    ")\n",
    "\n",
    "model = get_peft_model(model, config)"
   ]
  },
  {
   "cell_type": "markdown",
   "metadata": {},
   "source": [
    "## 2.   Prepare dataset"
   ]
  },
  {
   "cell_type": "code",
   "execution_count": 2,
   "metadata": {},
   "outputs": [],
   "source": [
    "import pandas as pd\n",
    "\n",
    "# DataFrame to Json\n",
    "df_short_ans = pd.read_excel('./data/2024-02-28-公告测评集.xls', header=0)\n",
    "df_short_ans['answer'] = df_short_ans['answer'].astype(str)\n",
    "# df_short_ans.to_json('./data/data_short_ans_train.json',orient='records')\n",
    "\n",
    "df_choice = pd.read_excel('./data/2024-02-28-公告测评集-选项.xls', header=0)\n",
    "df_choice['prompt'] = ''\n",
    "for i, row in df_choice.iterrows():\n",
    "    prompt = '''下面是几条对上述公告相关的理解或问题答案，请选出一条或多条理解到位、答案准确的选项。\\n\\n'''\n",
    "    question = row['评测问题'] + '\\n\\n'\n",
    "    choice = (\n",
    "        \"选项A:\" + str(row['选项A']), \"选项B:\" + str(row['选项B']), \"选项C:\" + str(row['选项C']), \"选项D:\" + str(row['选项D'])\n",
    "    )\n",
    "    choice_str = \"\\n\".join(choice)\n",
    "    df_choice.loc[i, 'question'] = question + prompt + choice_str\n",
    "\n",
    "df_choice_2 = df_choice[['领域分类', 'question', '答案']].copy()\n",
    "df_choice_2.rename(columns={'领域分类': 'type', '答案': 'answer'}, inplace=True)\n",
    "# df_choice_2.to_json('./data/data_choice_train.json',orient='records')\n",
    "\n",
    "df_combine = pd.concat([df_short_ans, df_choice_2], axis=0, ignore_index=True)\n",
    "df_combine.to_json('./data/data_combine_train.json',orient='records')"
   ]
  },
  {
   "cell_type": "markdown",
   "metadata": {},
   "source": [
    "## 3.   Load dataset and encode"
   ]
  },
  {
   "cell_type": "code",
   "execution_count": 3,
   "metadata": {},
   "outputs": [
    {
     "data": {
      "application/vnd.jupyter.widget-view+json": {
       "model_id": "11847cacd1a94cf6b27059647c1304ac",
       "version_major": 2,
       "version_minor": 0
      },
      "text/plain": [
       "Generating train split: 0 examples [00:00, ? examples/s]"
      ]
     },
     "metadata": {},
     "output_type": "display_data"
    },
    {
     "data": {
      "application/vnd.jupyter.widget-view+json": {
       "model_id": "65aa5a8dc4714e93b2424488719a2bb5",
       "version_major": 2,
       "version_minor": 0
      },
      "text/plain": [
       "Map:   0%|          | 0/200 [00:00<?, ? examples/s]"
      ]
     },
     "metadata": {},
     "output_type": "display_data"
    }
   ],
   "source": [
    "import pandas as pd\n",
    "from transformers import TrainingArguments, Trainer, DataCollatorForSeq2Seq, DataCollatorForLanguageModeling\n",
    "from typing import Dict\n",
    "from datasets import Dataset, load_dataset\n",
    "import numpy as np\n",
    "\n",
    "\n",
    "def encode_fn(text, tokenizer, max_length,return_attention_mask=False):\n",
    "    return tokenizer(text, max_length=max_length, padding=\"max_length\", truncation=True,return_attention_mask=return_attention_mask)\n",
    "\n",
    "\n",
    "def get_dataset(file: str, split: str, encode_fn: callable, encode_args: dict,  cache_dir: str='.cache') -> Dataset:\n",
    "    \"\"\"\n",
    "    Load a dataset\n",
    "    \"\"\"\n",
    "    eos_token = tokenizer.eos_token\n",
    "    dataset = load_dataset('json', data_files=file, split=split, cache_dir=cache_dir)\n",
    "    def merge_prompt_and_responses(sample: dict):\n",
    "        # add an eos token note that end of sentence, using in generate.\n",
    "        # encoded_prompt = tokenizer([e + eos_token for e in sample['question']], truncation=False, padding=True, return_attention_mask=True)\n",
    "        # encoded_response = tokenizer([e + eos_token for e in sample['answer']], truncation=False, padding=True, return_attention_mask=False)\n",
    "        encoded_prompt = tokenizer(sample['question'] + eos_token, truncation=False, padding=True, return_attention_mask=True)\n",
    "        encoded_response = tokenizer(sample['answer'] + eos_token, truncation=False, padding=True, return_attention_mask=False)\n",
    "        encoded_q_type = tokenizer(sample['type'] + eos_token, truncation=False, padding=True, return_attention_mask=True)\n",
    "        # input_ids = [np.array(item + [eos_token_id], dtype=np.uint32) for item in encoded_prompt[\"input_ids\"]]\n",
    "        # labels = [np.array(item + [eos_token_id], dtype=np.uint32) for item in encoded_response[\"input_ids\"]]\n",
    "        # prompt = encode_fn(sample['question'] + '[EOS]', return_attention_mask=True)\n",
    "        # answer = encode_fn(sample['answer'] + '[EOS]', return_attention_mask=False)\n",
    "        # title = encode_fn(sample['title'] + '[EOS]', **encode_args)\n",
    "        # print(type(encoded_prompt.input_ids),'\\n',type(encoded_prompt.attention_mask),'\\n',labels)\n",
    "        return {\n",
    "            'input_ids': encoded_prompt.input_ids,\n",
    "            'q_type': encoded_q_type.input_ids,\n",
    "            'labels': encoded_response.input_ids,       \n",
    "            'attention_mask': encoded_prompt.attention_mask,\n",
    "            'q_type_attention_mask' : encoded_q_type.attention_mask,\n",
    "        }\n",
    "\n",
    "    # dataset = dataset.map(merge_prompt_and_responses, batched=True, batch_size=1)\n",
    "    dataset = dataset.map(merge_prompt_and_responses)\n",
    "    return dataset\n",
    "\n",
    "dataset = get_dataset(\n",
    "    file='./data/data_combine_train.json', \n",
    "    split=\"train\", \n",
    "    encode_fn=encode_fn, \n",
    "    encode_args={\"tokenizer\": tokenizer, \"max_length\": 1024}, \n",
    "    cache_dir=\".cache\"\n",
    ")\n"
   ]
  },
  {
   "cell_type": "markdown",
   "metadata": {},
   "source": [
    "## 4.   Train"
   ]
  },
  {
   "cell_type": "code",
   "execution_count": 4,
   "metadata": {},
   "outputs": [
    {
     "name": "stderr",
     "output_type": "stream",
     "text": [
      "Detected kernel version 3.10.0, which is below the recommended minimum of 5.5.0; this can cause the process to hang. It is recommended to upgrade the kernel to the minimum version or higher.\n",
      "You have loaded a model on multiple GPUs. `is_model_parallel` attribute will be force-set to `True` to avoid any unexpected behavior such as device placement mismatching.\n",
      "The following columns in the training set don't have a corresponding argument in `PeftModelForCausalLM.forward` and have been ignored: type, question, answer, q_type, q_type_attention_mask. If type, question, answer, q_type, q_type_attention_mask are not expected by `PeftModelForCausalLM.forward`,  you can safely ignore this message.\n",
      "***** Running training *****\n",
      "  Num examples = 200\n",
      "  Num Epochs = 1\n",
      "  Instantaneous batch size per device = 1\n",
      "  Total train batch size (w. parallel, distributed & accumulation) = 10\n",
      "  Gradient Accumulation steps = 10\n",
      "  Total optimization steps = 20\n",
      "  Number of trainable parameters = 12,609,536\n"
     ]
    },
    {
     "data": {
      "text/html": [
       "\n",
       "    <div>\n",
       "      \n",
       "      <progress value='20' max='20' style='width:300px; height:20px; vertical-align: middle;'></progress>\n",
       "      [20/20 00:27, Epoch 1/1]\n",
       "    </div>\n",
       "    <table border=\"1\" class=\"dataframe\">\n",
       "  <thead>\n",
       " <tr style=\"text-align: left;\">\n",
       "      <th>Step</th>\n",
       "      <th>Training Loss</th>\n",
       "    </tr>\n",
       "  </thead>\n",
       "  <tbody>\n",
       "    <tr>\n",
       "      <td>10</td>\n",
       "      <td>2.178400</td>\n",
       "    </tr>\n",
       "    <tr>\n",
       "      <td>20</td>\n",
       "      <td>1.959700</td>\n",
       "    </tr>\n",
       "  </tbody>\n",
       "</table><p>"
      ],
      "text/plain": [
       "<IPython.core.display.HTML object>"
      ]
     },
     "metadata": {},
     "output_type": "display_data"
    },
    {
     "name": "stderr",
     "output_type": "stream",
     "text": [
      "Checkpoint destination directory ./train_result/checkpoint-10 already exists and is non-empty. Saving will proceed but saved results may be invalid.\n",
      "Saving model checkpoint to ./train_result/checkpoint-10\n",
      "loading configuration file config.json from cache at /root/.cache/huggingface/hub/models--internlm--internlm2-chat-1_8b/snapshots/f842a52ed9579d662d5e67c8c0f8c67b3eb877a8/config.json\n",
      "Model config InternLM2Config {\n",
      "  \"architectures\": [\n",
      "    \"InternLM2ForCausalLM\"\n",
      "  ],\n",
      "  \"attn_implementation\": \"eager\",\n",
      "  \"auto_map\": {\n",
      "    \"AutoConfig\": \"internlm/internlm2-chat-1_8b--configuration_internlm2.InternLM2Config\",\n",
      "    \"AutoModel\": \"internlm/internlm2-chat-1_8b--modeling_internlm2.InternLM2ForCausalLM\",\n",
      "    \"AutoModelForCausalLM\": \"internlm/internlm2-chat-1_8b--modeling_internlm2.InternLM2ForCausalLM\"\n",
      "  },\n",
      "  \"bias\": false,\n",
      "  \"bos_token_id\": 1,\n",
      "  \"eos_token_id\": 2,\n",
      "  \"hidden_act\": \"silu\",\n",
      "  \"hidden_size\": 2048,\n",
      "  \"initializer_range\": 0.02,\n",
      "  \"intermediate_size\": 8192,\n",
      "  \"max_position_embeddings\": 32768,\n",
      "  \"model_type\": \"internlm2\",\n",
      "  \"num_attention_heads\": 16,\n",
      "  \"num_hidden_layers\": 24,\n",
      "  \"num_key_value_heads\": 8,\n",
      "  \"pad_token_id\": 2,\n",
      "  \"rms_norm_eps\": 1e-05,\n",
      "  \"rope_scaling\": {\n",
      "    \"factor\": 2.0,\n",
      "    \"type\": \"dynamic\"\n",
      "  },\n",
      "  \"rope_theta\": 1000000,\n",
      "  \"tie_word_embeddings\": false,\n",
      "  \"torch_dtype\": \"float16\",\n",
      "  \"transformers_version\": \"4.38.2\",\n",
      "  \"use_cache\": true,\n",
      "  \"vocab_size\": 92544\n",
      "}\n",
      "\n",
      "Checkpoint destination directory ./train_result/checkpoint-20 already exists and is non-empty. Saving will proceed but saved results may be invalid.\n",
      "Saving model checkpoint to ./train_result/checkpoint-20\n",
      "loading configuration file config.json from cache at /root/.cache/huggingface/hub/models--internlm--internlm2-chat-1_8b/snapshots/f842a52ed9579d662d5e67c8c0f8c67b3eb877a8/config.json\n",
      "Model config InternLM2Config {\n",
      "  \"architectures\": [\n",
      "    \"InternLM2ForCausalLM\"\n",
      "  ],\n",
      "  \"attn_implementation\": \"eager\",\n",
      "  \"auto_map\": {\n",
      "    \"AutoConfig\": \"internlm/internlm2-chat-1_8b--configuration_internlm2.InternLM2Config\",\n",
      "    \"AutoModel\": \"internlm/internlm2-chat-1_8b--modeling_internlm2.InternLM2ForCausalLM\",\n",
      "    \"AutoModelForCausalLM\": \"internlm/internlm2-chat-1_8b--modeling_internlm2.InternLM2ForCausalLM\"\n",
      "  },\n",
      "  \"bias\": false,\n",
      "  \"bos_token_id\": 1,\n",
      "  \"eos_token_id\": 2,\n",
      "  \"hidden_act\": \"silu\",\n",
      "  \"hidden_size\": 2048,\n",
      "  \"initializer_range\": 0.02,\n",
      "  \"intermediate_size\": 8192,\n",
      "  \"max_position_embeddings\": 32768,\n",
      "  \"model_type\": \"internlm2\",\n",
      "  \"num_attention_heads\": 16,\n",
      "  \"num_hidden_layers\": 24,\n",
      "  \"num_key_value_heads\": 8,\n",
      "  \"pad_token_id\": 2,\n",
      "  \"rms_norm_eps\": 1e-05,\n",
      "  \"rope_scaling\": {\n",
      "    \"factor\": 2.0,\n",
      "    \"type\": \"dynamic\"\n",
      "  },\n",
      "  \"rope_theta\": 1000000,\n",
      "  \"tie_word_embeddings\": false,\n",
      "  \"torch_dtype\": \"float16\",\n",
      "  \"transformers_version\": \"4.38.2\",\n",
      "  \"use_cache\": true,\n",
      "  \"vocab_size\": 92544\n",
      "}\n",
      "\n",
      "\n",
      "\n",
      "Training completed. Do not forget to share your model on huggingface.co/models =)\n",
      "\n",
      "\n"
     ]
    }
   ],
   "source": [
    "import time\n",
    "\n",
    "args = TrainingArguments(\n",
    "    output_dir='./train_result/',\n",
    "    overwrite_output_dir=True,\n",
    "    per_device_train_batch_size=1,\n",
    "    auto_find_batch_size=True,  # 防止OOM\n",
    "    gradient_accumulation_steps=10,\n",
    "    learning_rate=1e-3,\n",
    "    logging_steps=10,\n",
    "    num_train_epochs=10,\n",
    "    log_level='info',\n",
    "    save_steps=10,\n",
    "    save_total_limit=20,\n",
    "    # fp16=config.fp16,\n",
    "    # logging_first_step=config.logging_first_step,\n",
    "    warmup_steps=50,\n",
    "    seed=42,\n",
    ")\n",
    "\n",
    "# trainer\n",
    "trainer = Trainer(\n",
    "    model = model,\n",
    "    args = args,\n",
    "    train_dataset = dataset,\n",
    "    data_collator = DataCollatorForLanguageModeling(tokenizer = tokenizer, mlm=False)\n",
    "    # data_collator = DataCollatorForSeq2Seq(tokenizer = tokenizer)\n",
    ")\n",
    "\n",
    "# 训练模型\n",
    "trainer.train()\n",
    "\n",
    "loss_log = pd.DataFrame(trainer.state.log_history)\n",
    "loss_log.to_csv(f\"{'./logs'}/p_tune_train_log_{time.strftime('%Y%m%d-%H%M')}.csv\")\n",
    "\n",
    "# trainer.save_model('./trained_model')"
   ]
  },
  {
   "cell_type": "code",
   "execution_count": 5,
   "metadata": {},
   "outputs": [
    {
     "name": "stderr",
     "output_type": "stream",
     "text": [
      "loading configuration file config.json from cache at /root/.cache/huggingface/hub/models--internlm--internlm2-chat-1_8b/snapshots/f842a52ed9579d662d5e67c8c0f8c67b3eb877a8/config.json\n",
      "Model config InternLM2Config {\n",
      "  \"architectures\": [\n",
      "    \"InternLM2ForCausalLM\"\n",
      "  ],\n",
      "  \"attn_implementation\": \"eager\",\n",
      "  \"auto_map\": {\n",
      "    \"AutoConfig\": \"internlm/internlm2-chat-1_8b--configuration_internlm2.InternLM2Config\",\n",
      "    \"AutoModel\": \"internlm/internlm2-chat-1_8b--modeling_internlm2.InternLM2ForCausalLM\",\n",
      "    \"AutoModelForCausalLM\": \"internlm/internlm2-chat-1_8b--modeling_internlm2.InternLM2ForCausalLM\"\n",
      "  },\n",
      "  \"bias\": false,\n",
      "  \"bos_token_id\": 1,\n",
      "  \"eos_token_id\": 2,\n",
      "  \"hidden_act\": \"silu\",\n",
      "  \"hidden_size\": 2048,\n",
      "  \"initializer_range\": 0.02,\n",
      "  \"intermediate_size\": 8192,\n",
      "  \"max_position_embeddings\": 32768,\n",
      "  \"model_type\": \"internlm2\",\n",
      "  \"num_attention_heads\": 16,\n",
      "  \"num_hidden_layers\": 24,\n",
      "  \"num_key_value_heads\": 8,\n",
      "  \"pad_token_id\": 2,\n",
      "  \"rms_norm_eps\": 1e-05,\n",
      "  \"rope_scaling\": {\n",
      "    \"factor\": 2.0,\n",
      "    \"type\": \"dynamic\"\n",
      "  },\n",
      "  \"rope_theta\": 1000000,\n",
      "  \"tie_word_embeddings\": false,\n",
      "  \"torch_dtype\": \"float16\",\n",
      "  \"transformers_version\": \"4.38.2\",\n",
      "  \"use_cache\": true,\n",
      "  \"vocab_size\": 92544\n",
      "}\n",
      "\n"
     ]
    }
   ],
   "source": [
    "model.save_pretrained('./trained_model')"
   ]
  },
  {
   "cell_type": "code",
   "execution_count": 6,
   "metadata": {},
   "outputs": [
    {
     "name": "stdout",
     "output_type": "stream",
     "text": [
      "PeftModelForCausalLM(\n",
      "  (base_model): InternLM2ForCausalLM(\n",
      "    (model): InternLM2Model(\n",
      "      (tok_embeddings): Embedding(92544, 2048, padding_idx=2)\n",
      "      (layers): ModuleList(\n",
      "        (0-23): 24 x InternLM2DecoderLayer(\n",
      "          (attention): InternLM2Attention(\n",
      "            (wqkv): Linear(in_features=2048, out_features=4096, bias=False)\n",
      "            (wo): Linear(in_features=2048, out_features=2048, bias=False)\n",
      "            (rotary_emb): InternLM2DynamicNTKScalingRotaryEmbedding()\n",
      "          )\n",
      "          (feed_forward): InternLM2MLP(\n",
      "            (w1): Linear(in_features=2048, out_features=8192, bias=False)\n",
      "            (w3): Linear(in_features=2048, out_features=8192, bias=False)\n",
      "            (w2): Linear(in_features=8192, out_features=2048, bias=False)\n",
      "            (act_fn): SiLU()\n",
      "          )\n",
      "          (attention_norm): InternLM2RMSNorm()\n",
      "          (ffn_norm): InternLM2RMSNorm()\n",
      "        )\n",
      "      )\n",
      "      (norm): InternLM2RMSNorm()\n",
      "    )\n",
      "    (output): Linear(in_features=2048, out_features=92544, bias=False)\n",
      "  )\n",
      "  (prompt_encoder): ModuleDict(\n",
      "    (default): PromptEncoder(\n",
      "      (embedding): Embedding(10, 2048)\n",
      "      (mlp_head): Sequential(\n",
      "        (0): Linear(in_features=2048, out_features=2048, bias=True)\n",
      "        (1): ReLU()\n",
      "        (2): Linear(in_features=2048, out_features=2048, bias=True)\n",
      "        (3): ReLU()\n",
      "        (4): Linear(in_features=2048, out_features=2048, bias=True)\n",
      "      )\n",
      "    )\n",
      "  )\n",
      "  (word_embeddings): Embedding(92544, 2048, padding_idx=2)\n",
      ")\n"
     ]
    }
   ],
   "source": [
    "print(model)"
   ]
  },
  {
   "cell_type": "markdown",
   "metadata": {},
   "source": [
    "## 5.   Evaluation"
   ]
  },
  {
   "cell_type": "code",
   "execution_count": 16,
   "metadata": {},
   "outputs": [
    {
     "name": "stderr",
     "output_type": "stream",
     "text": [
      "loading configuration file config.json from cache at /root/.cache/huggingface/hub/models--internlm--internlm2-chat-1_8b/snapshots/f842a52ed9579d662d5e67c8c0f8c67b3eb877a8/config.json\n",
      "loading configuration file config.json from cache at /root/.cache/huggingface/hub/models--internlm--internlm2-chat-1_8b/snapshots/f842a52ed9579d662d5e67c8c0f8c67b3eb877a8/config.json\n",
      "Model config InternLM2Config {\n",
      "  \"_name_or_path\": \"internlm/internlm2-chat-1_8b\",\n",
      "  \"architectures\": [\n",
      "    \"InternLM2ForCausalLM\"\n",
      "  ],\n",
      "  \"attn_implementation\": \"eager\",\n",
      "  \"auto_map\": {\n",
      "    \"AutoConfig\": \"internlm/internlm2-chat-1_8b--configuration_internlm2.InternLM2Config\",\n",
      "    \"AutoModel\": \"internlm/internlm2-chat-1_8b--modeling_internlm2.InternLM2ForCausalLM\",\n",
      "    \"AutoModelForCausalLM\": \"internlm/internlm2-chat-1_8b--modeling_internlm2.InternLM2ForCausalLM\"\n",
      "  },\n",
      "  \"bias\": false,\n",
      "  \"bos_token_id\": 1,\n",
      "  \"eos_token_id\": 2,\n",
      "  \"hidden_act\": \"silu\",\n",
      "  \"hidden_size\": 2048,\n",
      "  \"initializer_range\": 0.02,\n",
      "  \"intermediate_size\": 8192,\n",
      "  \"max_position_embeddings\": 32768,\n",
      "  \"model_type\": \"internlm2\",\n",
      "  \"num_attention_heads\": 16,\n",
      "  \"num_hidden_layers\": 24,\n",
      "  \"num_key_value_heads\": 8,\n",
      "  \"pad_token_id\": 2,\n",
      "  \"rms_norm_eps\": 1e-05,\n",
      "  \"rope_scaling\": {\n",
      "    \"factor\": 2.0,\n",
      "    \"type\": \"dynamic\"\n",
      "  },\n",
      "  \"rope_theta\": 1000000,\n",
      "  \"tie_word_embeddings\": false,\n",
      "  \"torch_dtype\": \"float16\",\n",
      "  \"transformers_version\": \"4.38.2\",\n",
      "  \"use_cache\": true,\n",
      "  \"vocab_size\": 92544\n",
      "}\n",
      "\n",
      "loading weights file model.safetensors from cache at /root/.cache/huggingface/hub/models--internlm--internlm2-chat-1_8b/snapshots/f842a52ed9579d662d5e67c8c0f8c67b3eb877a8/model.safetensors.index.json\n",
      "Instantiating InternLM2ForCausalLM model under default dtype torch.float16.\n",
      "Generate config GenerationConfig {\n",
      "  \"bos_token_id\": 1,\n",
      "  \"eos_token_id\": 2,\n",
      "  \"pad_token_id\": 2\n",
      "}\n",
      "\n"
     ]
    },
    {
     "data": {
      "application/vnd.jupyter.widget-view+json": {
       "model_id": "40222f66d9284c99bb250af0281c49ad",
       "version_major": 2,
       "version_minor": 0
      },
      "text/plain": [
       "Loading checkpoint shards:   0%|          | 0/2 [00:00<?, ?it/s]"
      ]
     },
     "metadata": {},
     "output_type": "display_data"
    },
    {
     "name": "stderr",
     "output_type": "stream",
     "text": [
      "All model checkpoint weights were used when initializing InternLM2ForCausalLM.\n",
      "\n",
      "All the weights of InternLM2ForCausalLM were initialized from the model checkpoint at internlm/internlm2-chat-1_8b.\n",
      "If your task is similar to the task the model of the checkpoint was trained on, you can already use InternLM2ForCausalLM for predictions without further training.\n",
      "loading configuration file generation_config.json from cache at /root/.cache/huggingface/hub/models--internlm--internlm2-chat-1_8b/snapshots/f842a52ed9579d662d5e67c8c0f8c67b3eb877a8/generation_config.json\n",
      "Generate config GenerationConfig {\n",
      "  \"bos_token_id\": 1,\n",
      "  \"eos_token_id\": 2,\n",
      "  \"pad_token_id\": 2\n",
      "}\n",
      "\n"
     ]
    }
   ],
   "source": [
    "from peft import PeftConfig, PeftModelForCausalLM\n",
    "peft_config = PeftConfig.from_pretrained('./trained_model/')\n",
    "model = AutoModelForCausalLM.from_pretrained(\"internlm/internlm2-chat-7b\", device_map=\"cuda\",trust_remote_code=True, torch_dtype=torch.float16)\n",
    "model = PeftModelForCausalLM.from_pretrained(model, './trained_model', config=peft_config)"
   ]
  },
  {
   "cell_type": "code",
   "execution_count": 17,
   "metadata": {},
   "outputs": [
    {
     "name": "stdout",
     "output_type": "stream",
     "text": [
      "PeftModelForCausalLM(\n",
      "  (base_model): InternLM2ForCausalLM(\n",
      "    (model): InternLM2Model(\n",
      "      (tok_embeddings): Embedding(92544, 2048, padding_idx=2)\n",
      "      (layers): ModuleList(\n",
      "        (0-23): 24 x InternLM2DecoderLayer(\n",
      "          (attention): InternLM2Attention(\n",
      "            (wqkv): Linear(in_features=2048, out_features=4096, bias=False)\n",
      "            (wo): Linear(in_features=2048, out_features=2048, bias=False)\n",
      "            (rotary_emb): InternLM2DynamicNTKScalingRotaryEmbedding()\n",
      "          )\n",
      "          (feed_forward): InternLM2MLP(\n",
      "            (w1): Linear(in_features=2048, out_features=8192, bias=False)\n",
      "            (w3): Linear(in_features=2048, out_features=8192, bias=False)\n",
      "            (w2): Linear(in_features=8192, out_features=2048, bias=False)\n",
      "            (act_fn): SiLU()\n",
      "          )\n",
      "          (attention_norm): InternLM2RMSNorm()\n",
      "          (ffn_norm): InternLM2RMSNorm()\n",
      "        )\n",
      "      )\n",
      "      (norm): InternLM2RMSNorm()\n",
      "    )\n",
      "    (output): Linear(in_features=2048, out_features=92544, bias=False)\n",
      "  )\n",
      "  (prompt_encoder): ModuleDict(\n",
      "    (default): PromptEncoder(\n",
      "      (embedding): Embedding(10, 2048)\n",
      "    )\n",
      "  )\n",
      "  (word_embeddings): Embedding(92544, 2048, padding_idx=2)\n",
      ")\n"
     ]
    }
   ],
   "source": [
    "print(model)"
   ]
  }
 ],
 "metadata": {
  "kernelspec": {
   "display_name": "Python 3",
   "language": "python",
   "name": "python3"
  },
  "language_info": {
   "codemirror_mode": {
    "name": "ipython",
    "version": 3
   },
   "file_extension": ".py",
   "mimetype": "text/x-python",
   "name": "python",
   "nbconvert_exporter": "python",
   "pygments_lexer": "ipython3",
   "version": "3.11.8"
  },
  "orig_nbformat": 4
 },
 "nbformat": 4,
 "nbformat_minor": 2
}
