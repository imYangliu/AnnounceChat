{
 "cells": [
  {
   "cell_type": "markdown",
   "metadata": {},
   "source": [
    "# 第一步，加载pretrained model and tokenizer"
   ]
  },
  {
   "cell_type": "code",
   "execution_count": 1,
   "metadata": {},
   "outputs": [
    {
     "data": {
      "application/vnd.jupyter.widget-view+json": {
       "model_id": "b72f8b6990f445c5b1cacf299ad1cb11",
       "version_major": 2,
       "version_minor": 0
      },
      "text/plain": [
       "Loading checkpoint shards:   0%|          | 0/2 [00:00<?, ?it/s]"
      ]
     },
     "metadata": {},
     "output_type": "display_data"
    }
   ],
   "source": [
    "import torch\n",
    "from transformers import AutoTokenizer, AutoModelForCausalLM\n",
    "from peft import PromptEncoderConfig, get_peft_model, TaskType\n",
    "\n",
    "tokenizer = AutoTokenizer.from_pretrained(\"internlm/internlm2-chat-1_8b\", trust_remote_code=True)\n",
    "model = AutoModelForCausalLM.from_pretrained(\"internlm/internlm2-chat-1_8b\", device_map=\"cuda\",trust_remote_code=True, torch_dtype=torch.float16)\n",
    "# model = model.eval()\n",
    "config = PromptEncoderConfig(\n",
    "    peft_type=\"P_TUNING\",\n",
    "    task_type=TaskType.CAUSAL_LM,\n",
    "    num_virtual_tokens=10,\n",
    "    token_dim=2048,\n",
    "    # num_transformer_submodules=1,\n",
    "    # num_attention_heads=12,\n",
    "    # num_layers=12,\n",
    "    encoder_reparameterization_type=\"MLP\",\n",
    "    encoder_hidden_size=2048,\n",
    ")\n",
    "\n",
    "model = get_peft_model(model, config)"
   ]
  },
  {
   "cell_type": "code",
   "execution_count": 2,
   "metadata": {},
   "outputs": [],
   "source": [
    "import pandas as pd\n",
    "\n",
    "# DataFrame to Json\n",
    "df = pd.read_excel('./data/2024-02-28-公告测评集.xls', header=0)\n",
    "df['answer'] = df['answer'].astype(str)\n",
    "df.to_json('./data/data_short_ans_train.json',orient='records')"
   ]
  },
  {
   "cell_type": "markdown",
   "metadata": {},
   "source": []
  },
  {
   "cell_type": "code",
   "execution_count": 5,
   "metadata": {},
   "outputs": [
    {
     "data": {
      "application/vnd.jupyter.widget-view+json": {
       "model_id": "9d5f6fd857174e02b119ee25bb3b5683",
       "version_major": 2,
       "version_minor": 0
      },
      "text/plain": [
       "Map:   0%|          | 0/100 [00:00<?, ? examples/s]"
      ]
     },
     "metadata": {},
     "output_type": "display_data"
    }
   ],
   "source": [
    "import pandas as pd\n",
    "from transformers import TrainingArguments, Trainer, DataCollatorForSeq2Seq, DataCollatorForLanguageModeling\n",
    "from typing import Dict\n",
    "from datasets import Dataset, load_dataset\n",
    "import numpy as np\n",
    "\n",
    "\n",
    "def encode_fn(text, tokenizer, max_length,return_attention_mask=False):\n",
    "    return tokenizer(text, max_length=max_length, padding=\"max_length\", truncation=True,return_attention_mask=return_attention_mask)\n",
    "\n",
    "\n",
    "def get_dataset(file: str, split: str, encode_fn: callable, encode_args: dict,  cache_dir: str='.cache') -> Dataset:\n",
    "    \"\"\"\n",
    "    Load a dataset\n",
    "    \"\"\"\n",
    "    eos_token = tokenizer.eos_token\n",
    "    dataset = load_dataset('json', data_files=file, split=split, cache_dir=cache_dir)\n",
    "    def merge_prompt_and_responses(sample: dict):\n",
    "        # add an eos token note that end of sentence, using in generate.\n",
    "        # encoded_prompt = tokenizer([e + eos_token for e in sample['question']], truncation=False, padding=True, return_attention_mask=True)\n",
    "        # encoded_response = tokenizer([e + eos_token for e in sample['answer']], truncation=False, padding=True, return_attention_mask=False)\n",
    "        encoded_prompt = tokenizer(sample['question'] + eos_token, truncation=False, padding=True, return_attention_mask=True)\n",
    "        encoded_response = tokenizer(sample['answer'] + eos_token, truncation=False, padding=True, return_attention_mask=False)\n",
    "        encoded_q_type = tokenizer(sample['type'] + eos_token, truncation=False, padding=True, return_attention_mask=True)\n",
    "        # input_ids = [np.array(item + [eos_token_id], dtype=np.uint32) for item in encoded_prompt[\"input_ids\"]]\n",
    "        # labels = [np.array(item + [eos_token_id], dtype=np.uint32) for item in encoded_response[\"input_ids\"]]\n",
    "        # prompt = encode_fn(sample['question'] + '[EOS]', return_attention_mask=True)\n",
    "        # answer = encode_fn(sample['answer'] + '[EOS]', return_attention_mask=False)\n",
    "        # title = encode_fn(sample['title'] + '[EOS]', **encode_args)\n",
    "        # print(type(encoded_prompt.input_ids),'\\n',type(encoded_prompt.attention_mask),'\\n',labels)\n",
    "        return {\n",
    "            'input_ids': encoded_prompt.input_ids,\n",
    "            'attention_mask': encoded_prompt.attention_mask,\n",
    "            'q_type': encoded_q_type.input_ids,\n",
    "            'labels': encoded_response.input_ids,       \n",
    "            'q_type_attention_mask' : encoded_q_type.attention_mask,\n",
    "        }\n",
    "\n",
    "    # dataset = dataset.map(merge_prompt_and_responses, batched=True, batch_size=1)\n",
    "    dataset = dataset.map(merge_prompt_and_responses)\n",
    "    return dataset\n",
    "\"\"\"\n",
    "return {\n",
    "    'input_ids': prompt.input_ids,\n",
    "    'input_mask': prompt.attention_mask,\n",
    "    'labels': response.input_ids,\n",
    "    # 'title_input_ids': title.input_ids,\n",
    "    # 'title_input_mask': title.attention_mask\n",
    "} \"\"\"\n",
    "\n",
    "dataset = get_dataset(\n",
    "    file='./data/data_short_ans_train.json', \n",
    "    split=\"train\", \n",
    "    encode_fn=encode_fn, \n",
    "    encode_args={\"tokenizer\": tokenizer, \"max_length\": 128}, \n",
    "    cache_dir=\".cache\"\n",
    ")\n"
   ]
  },
  {
   "cell_type": "code",
   "execution_count": 6,
   "metadata": {},
   "outputs": [
    {
     "name": "stderr",
     "output_type": "stream",
     "text": [
      "PyTorch: setting up devices\n",
      "The default value for the training argument `--report_to` will change in v5 (from all installed integrations to none). In v5, you will need to use `--report_to all` to get the same behavior as now. You should start updating your code and make this info disappear :-).\n",
      "Detected kernel version 3.10.0, which is below the recommended minimum of 5.5.0; this can cause the process to hang. It is recommended to upgrade the kernel to the minimum version or higher.\n",
      "You have loaded a model on multiple GPUs. `is_model_parallel` attribute will be force-set to `True` to avoid any unexpected behavior such as device placement mismatching.\n",
      "The following columns in the training set don't have a corresponding argument in `PeftModelForCausalLM.forward` and have been ignored: type, q_type_attention_mask, q_type, answer, question. If type, q_type_attention_mask, q_type, answer, question are not expected by `PeftModelForCausalLM.forward`,  you can safely ignore this message.\n",
      "***** Running training *****\n",
      "  Num examples = 100\n",
      "  Num Epochs = 10\n",
      "  Instantaneous batch size per device = 1\n",
      "  Total train batch size (w. parallel, distributed & accumulation) = 10\n",
      "  Gradient Accumulation steps = 10\n",
      "  Total optimization steps = 100\n",
      "  Number of trainable parameters = 12,609,536\n"
     ]
    },
    {
     "data": {
      "text/html": [
       "\n",
       "    <div>\n",
       "      \n",
       "      <progress value='100' max='100' style='width:300px; height:20px; vertical-align: middle;'></progress>\n",
       "      [100/100 02:07, Epoch 10/10]\n",
       "    </div>\n",
       "    <table border=\"1\" class=\"dataframe\">\n",
       "  <thead>\n",
       " <tr style=\"text-align: left;\">\n",
       "      <th>Step</th>\n",
       "      <th>Training Loss</th>\n",
       "    </tr>\n",
       "  </thead>\n",
       "  <tbody>\n",
       "    <tr>\n",
       "      <td>10</td>\n",
       "      <td>1.466600</td>\n",
       "    </tr>\n",
       "    <tr>\n",
       "      <td>20</td>\n",
       "      <td>1.447100</td>\n",
       "    </tr>\n",
       "    <tr>\n",
       "      <td>30</td>\n",
       "      <td>1.421000</td>\n",
       "    </tr>\n",
       "    <tr>\n",
       "      <td>40</td>\n",
       "      <td>1.429000</td>\n",
       "    </tr>\n",
       "    <tr>\n",
       "      <td>50</td>\n",
       "      <td>1.405900</td>\n",
       "    </tr>\n",
       "    <tr>\n",
       "      <td>60</td>\n",
       "      <td>1.356500</td>\n",
       "    </tr>\n",
       "    <tr>\n",
       "      <td>70</td>\n",
       "      <td>1.308100</td>\n",
       "    </tr>\n",
       "    <tr>\n",
       "      <td>80</td>\n",
       "      <td>1.270700</td>\n",
       "    </tr>\n",
       "    <tr>\n",
       "      <td>90</td>\n",
       "      <td>1.230700</td>\n",
       "    </tr>\n",
       "    <tr>\n",
       "      <td>100</td>\n",
       "      <td>1.200300</td>\n",
       "    </tr>\n",
       "  </tbody>\n",
       "</table><p>"
      ],
      "text/plain": [
       "<IPython.core.display.HTML object>"
      ]
     },
     "metadata": {},
     "output_type": "display_data"
    },
    {
     "name": "stderr",
     "output_type": "stream",
     "text": [
      "\n",
      "\n",
      "Training completed. Do not forget to share your model on huggingface.co/models =)\n",
      "\n",
      "\n"
     ]
    },
    {
     "data": {
      "text/plain": [
       "TrainOutput(global_step=100, training_loss=1.3535794067382811, metrics={'train_runtime': 128.1545, 'train_samples_per_second': 7.803, 'train_steps_per_second': 0.78, 'total_flos': 6195682573639680.0, 'train_loss': 1.3535794067382811, 'epoch': 10.0})"
      ]
     },
     "execution_count": 6,
     "metadata": {},
     "output_type": "execute_result"
    }
   ],
   "source": [
    "args = TrainingArguments(\n",
    "    output_dir='./train_result/',\n",
    "    per_device_train_batch_size=1,\n",
    "    auto_find_batch_size=True,  # 防止OOM\n",
    "    gradient_accumulation_steps=10,\n",
    "    learning_rate=1e-3,\n",
    "    logging_steps=10,\n",
    "    num_train_epochs=10,\n",
    "    log_level='info',\n",
    "    # save_steps=50,\n",
    "    # save_total_limit=3,\n",
    "    # fp16=config.fp16,\n",
    "    # logging_first_step=config.logging_first_step,\n",
    "    warmup_steps=50,\n",
    "    seed=42,\n",
    ")\n",
    "\n",
    "# trainer\n",
    "trainer = Trainer(\n",
    "    model = model,\n",
    "    args = args,\n",
    "    train_dataset = dataset,\n",
    "    data_collator = DataCollatorForLanguageModeling(tokenizer = tokenizer, mlm=False)\n",
    "    # data_collator = DataCollatorForSeq2Seq(tokenizer = tokenizer)\n",
    ")\n",
    "\n",
    "# 训练模型\n",
    "trainer.train()"
   ]
  }
 ],
 "metadata": {
  "kernelspec": {
   "display_name": "Python 3",
   "language": "python",
   "name": "python3"
  },
  "language_info": {
   "codemirror_mode": {
    "name": "ipython",
    "version": 3
   },
   "file_extension": ".py",
   "mimetype": "text/x-python",
   "name": "python",
   "nbconvert_exporter": "python",
   "pygments_lexer": "ipython3",
   "version": "3.11.8"
  },
  "orig_nbformat": 4
 },
 "nbformat": 4,
 "nbformat_minor": 2
}
